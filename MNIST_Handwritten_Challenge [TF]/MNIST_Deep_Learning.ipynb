{
 "cells": [
  {
   "cell_type": "markdown",
   "metadata": {},
   "source": [
    "## Training using multilayer convolutional network"
   ]
  },
  {
   "cell_type": "markdown",
   "metadata": {},
   "source": [
    "Importing essestial libraries and the dataset"
   ]
  },
  {
   "cell_type": "code",
   "execution_count": 4,
   "metadata": {},
   "outputs": [],
   "source": [
    "import math\n",
    "from tensorflow.examples.tutorials.mnist import input_data\n",
    "import tensorflow as tf"
   ]
  },
  {
   "cell_type": "code",
   "execution_count": 2,
   "metadata": {},
   "outputs": [
    {
     "name": "stdout",
     "output_type": "stream",
     "text": [
      "Extracting MNIST_data/train-images-idx3-ubyte.gz\n",
      "Extracting MNIST_data/train-labels-idx1-ubyte.gz\n",
      "Extracting MNIST_data/t10k-images-idx3-ubyte.gz\n",
      "Extracting MNIST_data/t10k-labels-idx1-ubyte.gz\n"
     ]
    }
   ],
   "source": [
    "mnist = input_data.read_data_sets(\"MNIST_data/\", one_hot=True)"
   ]
  },
  {
   "cell_type": "code",
   "execution_count": 3,
   "metadata": {
    "collapsed": true
   },
   "outputs": [],
   "source": [
    "NUM_CLASSES = 10\n",
    "\n",
    "IMAGE_SIZE = 28\n",
    "IMAGE_PIXELS = IMAGE_SIZE * IMAGE_SIZE\n",
    "\n",
    "BATCH_SIZE = 100\n",
    "EVAL_BATCH_SIZE = 1\n",
    "\n",
    "HIDDEN1_UNITS = 128\n",
    "HIDDEN2_UNITS = 32\n",
    "\n",
    "MAX_STEPS = 2000\n",
    "\n",
    "TRAIN_DIR = \"/tmp/mnist\""
   ]
  },
  {
   "cell_type": "markdown",
   "metadata": {},
   "source": [
    "## Building the inference graph"
   ]
  },
  {
   "cell_type": "code",
   "execution_count": 5,
   "metadata": {
    "collapsed": true
   },
   "outputs": [],
   "source": [
    "def mnist_inference(images, hidden1_units, hidden2_units):\n",
    "    \"\"\"\n",
    "    Args:\n",
    "        images : Image placeholder.\n",
    "        hidden1_units : size of the first hidden layer.\n",
    "        hidden2_units : size of the second hidden layer.\n",
    "    Returns:\n",
    "        logits : output tensor with the computed logits.\n",
    "    \"\"\"\n",
    "    \n",
    "    # Hidden_layer_1\n",
    "    with tf.name_scope('hidden1'):\n",
    "        weights = tf.Variable(\n",
    "            tf.truncated_normal([IMAGE_PIXELS, hidden1_units], stddev=1.0 /math.sqrt(float(IMAGE_PIXELS))), \n",
    "            name='weights')\n",
    "        baises = tf.Variable(tf.zeros([hidden1_units]), name='baises')\n",
    "        \n",
    "        hidden1 = tf.nn.relu(tf.matmul(images, weights) + baises)\n",
    "    \n",
    "    # Hidden_layer_2\n",
    "    with tf.name_scope('hidden2'):\n",
    "        weights = tf.Variable(\n",
    "            tf.truncated_normal([hidden1_units, hidden2_units], stddev=1.0 /math.sqrt(float(hidden1_units))), \n",
    "            name='weights')\n",
    "        baises = tf.Variable(tf.zeros([hidden2_units]), name='baises')\n",
    "        \n",
    "        hidden2 = tf.nn.relu(tf.matmul(hidden1, weights) + baises)\n",
    "        \n",
    "    # Linear_layer\n",
    "    with tf.name_scope('softmax'):\n",
    "        weights = tf.Variable(\n",
    "            tf.truncated_normal([hidden2_units,NUM_CLASSES], stddev=1.0 /math.sqrt(float(hidden2_units))),\n",
    "            name = 'weights')\n",
    "        biases = tf.Variable(tf.zeros([NUM_CLASSES]), name=\"baises\")\n",
    "        \n",
    "        logits = tf.matmul(hidden2, weights) + baises\n",
    "        \n",
    "    \n",
    "    return logits"
   ]
  },
  {
   "cell_type": "markdown",
   "metadata": {},
   "source": [
    "## Building the training graph"
   ]
  },
  {
   "cell_type": "code",
   "execution_count": 7,
   "metadata": {
    "collapsed": true
   },
   "outputs": [],
   "source": [
    "def mnist_training(logits, labels, learning_rate):\n",
    "    \"\"\"\n",
    "    Args:\n",
    "        logits : Logits tensor, float [BATCH_SIZE, NUM_CLASSES]\n",
    "        labels : Labels tensor, int32 [BATCH_SIZE]\n",
    "        learning_rate\n",
    "        \n",
    "    Returns:\n",
    "        train_op : The op for training\n",
    "        loss : The op for calculating loss\n",
    "    \"\"\"\n",
    "    \n",
    "    labels = tf.to_int64(labels)\n",
    "    cross_entropy = tf.nn.sparse_softmax_cross_entropy_with_logits(logits=logits, labels=labels)\n",
    "    loss = tf.reduce_mean(cross_entropy, name=\"xentropy_mean\")\n",
    "    \n",
    "    optimizer = tf.train.GradientDescentOptimizer(learning_rate)\n",
    "    \n",
    "    # Create variable to track global step\n",
    "    global_step = tf.Variable(0, name='global_step', trainable=False)\n",
    "    \n",
    "    train_op = optimizer.minimize(loss, global_step=global_step)\n",
    "    \n",
    "    return train_op, loss"
   ]
  },
  {
   "cell_type": "code",
   "execution_count": null,
   "metadata": {
    "collapsed": true
   },
   "outputs": [],
   "source": []
  }
 ],
 "metadata": {
  "kernelspec": {
   "display_name": "Python 3",
   "language": "python",
   "name": "python3"
  },
  "language_info": {
   "codemirror_mode": {
    "name": "ipython",
    "version": 3
   },
   "file_extension": ".py",
   "mimetype": "text/x-python",
   "name": "python",
   "nbconvert_exporter": "python",
   "pygments_lexer": "ipython3",
   "version": "3.6.3"
  }
 },
 "nbformat": 4,
 "nbformat_minor": 2
}
