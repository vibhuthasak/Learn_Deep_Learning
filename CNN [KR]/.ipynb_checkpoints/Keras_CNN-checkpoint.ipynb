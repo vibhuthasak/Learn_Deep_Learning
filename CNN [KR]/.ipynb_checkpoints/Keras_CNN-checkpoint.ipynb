{
 "cells": [
  {
   "cell_type": "markdown",
   "metadata": {},
   "source": [
    "## Import essential libraries"
   ]
  },
  {
   "cell_type": "code",
   "execution_count": 1,
   "metadata": {},
   "outputs": [
    {
     "name": "stderr",
     "output_type": "stream",
     "text": [
      "/home/vibhutha/anaconda3/lib/python3.6/site-packages/h5py/__init__.py:34: FutureWarning: Conversion of the second argument of issubdtype from `float` to `np.floating` is deprecated. In future, it will be treated as `np.float64 == np.dtype(float).type`.\n",
      "  from ._conv import register_converters as _register_converters\n",
      "Using TensorFlow backend.\n",
      "/home/vibhutha/anaconda3/lib/python3.6/importlib/_bootstrap.py:219: RuntimeWarning: compiletime version 3.5 of module 'tensorflow.python.framework.fast_tensor_util' does not match runtime version 3.6\n",
      "  return f(*args, **kwds)\n"
     ]
    }
   ],
   "source": [
    "import numpy as np\n",
    "from keras import layers\n",
    "from keras import regularizers\n",
    "from keras.models import Model\n",
    "import h5py\n",
    "import matplotlib.pyplot as plt\n",
    "import keras.backend as K\n",
    "from matplotlib.pyplot import imshow\n",
    "from keras.utils import to_categorical\n",
    "%matplotlib inline"
   ]
  },
  {
   "cell_type": "markdown",
   "metadata": {},
   "source": [
    "To load dataset we need to write small script"
   ]
  },
  {
   "cell_type": "code",
   "execution_count": 2,
   "metadata": {
    "collapsed": true
   },
   "outputs": [],
   "source": [
    "def load_dataset():\n",
    "    train_dataset = h5py.File('train_signs.h5', \"r\")\n",
    "    train_set_x_orig = np.array(train_dataset[\"train_set_x\"][:]) # your train set features\n",
    "    train_set_y_orig = np.array(train_dataset[\"train_set_y\"][:]) # your train set labels\n",
    "\n",
    "    test_dataset = h5py.File('test_signs.h5', \"r\")\n",
    "    test_set_x_orig = np.array(test_dataset[\"test_set_x\"][:]) # your test set features\n",
    "    test_set_y_orig = np.array(test_dataset[\"test_set_y\"][:]) # your test set labels\n",
    "\n",
    "    classes = np.array(test_dataset[\"list_classes\"][:]) # the list of classes\n",
    "    \n",
    "    train_set_y_orig = train_set_y_orig.reshape((1, train_set_y_orig.shape[0]))\n",
    "    test_set_y_orig = test_set_y_orig.reshape((1, test_set_y_orig.shape[0]))\n",
    "    \n",
    "    return train_set_x_orig, train_set_y_orig, test_set_x_orig, test_set_y_orig, classes"
   ]
  },
  {
   "cell_type": "code",
   "execution_count": 3,
   "metadata": {
    "collapsed": true
   },
   "outputs": [],
   "source": [
    "X_train_orig, Y_train_orig, X_test_orig, Y_test_orig, classes = load_dataset()"
   ]
  },
  {
   "cell_type": "markdown",
   "metadata": {},
   "source": [
    "From the above output you can see,\n",
    "`X_train_orig` has `(m, n_h, n_w, n_c)` shape.\n",
    "`Y_train_orig` has `(1, m)` shape.\n",
    "\n",
    "For we need to reshape `Y_train_orig` and `Y_test_orig`. But before we need to normalize image vectors"
   ]
  },
  {
   "cell_type": "code",
   "execution_count": 4,
   "metadata": {},
   "outputs": [
    {
     "data": {
      "text/plain": [
       "((1080, 64, 64, 3), (1080, 6), (120, 64, 64, 3), (120, 6))"
      ]
     },
     "execution_count": 4,
     "metadata": {},
     "output_type": "execute_result"
    }
   ],
   "source": [
    "## Normalizing image vector\n",
    "X_train = X_train_orig / 255\n",
    "X_test = X_test_orig / 255\n",
    "\n",
    "## Reshaping Y_train_orig, Y_test_orig and One-Hot Encoding\n",
    "Y_train = to_categorical(Y_train_orig)\n",
    "Y_test = to_categorical(Y_test_orig)\n",
    "\n",
    "X_train.shape, Y_train.shape, X_test.shape, Y_test.shape"
   ]
  },
  {
   "cell_type": "markdown",
   "metadata": {},
   "source": [
    "Let's see one of image from SIGNS database"
   ]
  },
  {
   "cell_type": "code",
   "execution_count": 5,
   "metadata": {},
   "outputs": [
    {
     "data": {
      "text/plain": [
       "<matplotlib.image.AxesImage at 0x7f0f790ba4e0>"
      ]
     },
     "execution_count": 5,
     "metadata": {},
     "output_type": "execute_result"
    },
    {
     "data": {
      "image/png": "[encoded data removed]",
      "text/plain": [
       "<matplotlib.figure.Figure at 0x7f0f791582e8>"
      ]
     },
     "metadata": {},
     "output_type": "display_data"
    }
   ],
   "source": [
    "imshow(X_train[5,:,:,:])"
   ]
  },
  {
   "cell_type": "markdown",
   "metadata": {},
   "source": [
    "## Let's Build the model"
   ]
  },
  {
   "cell_type": "markdown",
   "metadata": {},
   "source": [
    "The model architecture is as follows.\n",
    "\n",
    "`X` -> `Conv2D` 32 (7,7) filters with Stride 1 -> `BatchNormalization` -> `Relu` -> `Max Pooling` (2,2) -> `Fully connected` -> `Y_pred`"
   ]
  },
  {
   "cell_type": "code",
   "execution_count": 6,
   "metadata": {
    "collapsed": true
   },
   "outputs": [],
   "source": [
    "def sign_model(Input_Batch):\n",
    "    \"\"\"\n",
    "    Creates a Keras model\n",
    "    Arguments: Training Batch\n",
    "    \n",
    "    Return : Keras model instance\n",
    "    \"\"\"\n",
    "    \n",
    "    X_train = layers.Input(Input_Batch)\n",
    "    \n",
    "#     X = layers.ZeroPadding2D((3,3))(X_train)\n",
    "    \n",
    "    X = layers.Conv2D(8, kernel_size=(4, 4), strides=1, padding='same', name='conv0',  kernel_regularizer=regularizers.l2(0.01))(X_train)\n",
    "    X = layers.BatchNormalization(axis = -1, name='bn0')(X)\n",
    "    X = layers.Activation('relu')(X)\n",
    "    \n",
    "    X = layers.MaxPooling2D(pool_size=(8,8), strides=8, padding='same', name='max_pool0')(X)\n",
    "    \n",
    "    X = layers.Conv2D(16, kernel_size=(2, 2), strides=(1,1), padding='same', name='conv1',  kernel_regularizer=regularizers.l2(0.01))(X)\n",
    "    X = layers.BatchNormalization(axis = -1, name='bn1')(X)\n",
    "    X = layers.Activation('relu')(X)\n",
    "    \n",
    "    X = layers.MaxPooling2D(pool_size=(4,4), strides=4, padding='same', name='max_pool1')(X)\n",
    "    \n",
    "    X = layers.Flatten()(X)\n",
    "    X = layers.Dense(6, activation='softmax')(X)\n",
    "    \n",
    "    model = Model(inputs=X_train, outputs=X, name='sign_model')\n",
    "\n",
    "    return model"
   ]
  },
  {
   "cell_type": "code",
   "execution_count": 7,
   "metadata": {
    "collapsed": true
   },
   "outputs": [],
   "source": [
    "signmodel = sign_model(X_train.shape[1:])"
   ]
  },
  {
   "cell_type": "code",
   "execution_count": 8,
   "metadata": {
    "collapsed": true
   },
   "outputs": [],
   "source": [
    "signmodel.compile(optimizer='adam',\n",
    "              loss='categorical_crossentropy',\n",
    "              metrics=['accuracy'])"
   ]
  },
  {
   "cell_type": "code",
   "execution_count": 13,
   "metadata": {},
   "outputs": [
    {
     "name": "stdout",
     "output_type": "stream",
     "text": [
      "Epoch 1/40\n",
      "1080/1080 [==============================] - 4s 4ms/step - loss: 0.4154 - acc: 0.9333\n",
      "Epoch 2/40\n",
      "1080/1080 [==============================] - 4s 4ms/step - loss: 0.4137 - acc: 0.9278\n",
      "Epoch 3/40\n",
      "1080/1080 [==============================] - 4s 4ms/step - loss: 0.4015 - acc: 0.9380\n",
      "Epoch 4/40\n",
      "1080/1080 [==============================] - 4s 4ms/step - loss: 0.3879 - acc: 0.9389\n",
      "Epoch 5/40\n",
      "1080/1080 [==============================] - 4s 4ms/step - loss: 0.3701 - acc: 0.9481\n",
      "Epoch 6/40\n",
      "1080/1080 [==============================] - 4s 4ms/step - loss: 0.3653 - acc: 0.9435\n",
      "Epoch 7/40\n",
      "1080/1080 [==============================] - 5s 4ms/step - loss: 0.3493 - acc: 0.9583\n",
      "Epoch 8/40\n",
      "1080/1080 [==============================] - 5s 4ms/step - loss: 0.3517 - acc: 0.9546\n",
      "Epoch 9/40\n",
      "1080/1080 [==============================] - 5s 4ms/step - loss: 0.3527 - acc: 0.9519\n",
      "Epoch 10/40\n",
      "1080/1080 [==============================] - 4s 4ms/step - loss: 0.3327 - acc: 0.9537\n",
      "Epoch 11/40\n",
      "1080/1080 [==============================] - 4s 4ms/step - loss: 0.3362 - acc: 0.9528\n",
      "Epoch 12/40\n",
      "1080/1080 [==============================] - 5s 4ms/step - loss: 0.3192 - acc: 0.9639\n",
      "Epoch 13/40\n",
      "1080/1080 [==============================] - 4s 4ms/step - loss: 0.3098 - acc: 0.9630\n",
      "Epoch 14/40\n",
      "1080/1080 [==============================] - 6s 5ms/step - loss: 0.3089 - acc: 0.9602\n",
      "Epoch 15/40\n",
      "1080/1080 [==============================] - 6s 6ms/step - loss: 0.2970 - acc: 0.9648\n",
      "Epoch 16/40\n",
      "1080/1080 [==============================] - 6s 5ms/step - loss: 0.2916 - acc: 0.9713\n",
      "Epoch 17/40\n",
      "1080/1080 [==============================] - 5s 5ms/step - loss: 0.2894 - acc: 0.9667\n",
      "Epoch 18/40\n",
      "1080/1080 [==============================] - 5s 4ms/step - loss: 0.2830 - acc: 0.9704\n",
      "Epoch 19/40\n",
      "1080/1080 [==============================] - 5s 4ms/step - loss: 0.2778 - acc: 0.9704\n",
      "Epoch 20/40\n",
      "1080/1080 [==============================] - 5s 5ms/step - loss: 0.2709 - acc: 0.9704\n",
      "Epoch 21/40\n",
      "1080/1080 [==============================] - 5s 5ms/step - loss: 0.2670 - acc: 0.9741\n",
      "Epoch 22/40\n",
      "1080/1080 [==============================] - 5s 4ms/step - loss: 0.2641 - acc: 0.9731\n",
      "Epoch 23/40\n",
      "1080/1080 [==============================] - 4s 4ms/step - loss: 0.2807 - acc: 0.9611\n",
      "Epoch 24/40\n",
      "1080/1080 [==============================] - 4s 4ms/step - loss: 0.2534 - acc: 0.9713\n",
      "Epoch 25/40\n",
      "1080/1080 [==============================] - 4s 4ms/step - loss: 0.2457 - acc: 0.9787\n",
      "Epoch 26/40\n",
      "1080/1080 [==============================] - 5s 5ms/step - loss: 0.2540 - acc: 0.9685\n",
      "Epoch 27/40\n",
      "1080/1080 [==============================] - 5s 4ms/step - loss: 0.2442 - acc: 0.9778\n",
      "Epoch 28/40\n",
      "1080/1080 [==============================] - 4s 4ms/step - loss: 0.2433 - acc: 0.9741\n",
      "Epoch 29/40\n",
      "1080/1080 [==============================] - 4s 4ms/step - loss: 0.2355 - acc: 0.9778\n",
      "Epoch 30/40\n",
      "1080/1080 [==============================] - 4s 4ms/step - loss: 0.2272 - acc: 0.9769\n",
      "Epoch 31/40\n",
      "1080/1080 [==============================] - 6s 5ms/step - loss: 0.2339 - acc: 0.9741\n",
      "Epoch 32/40\n",
      "1080/1080 [==============================] - 5s 5ms/step - loss: 0.2250 - acc: 0.9833\n",
      "Epoch 33/40\n",
      "1080/1080 [==============================] - 5s 4ms/step - loss: 0.2191 - acc: 0.9787\n",
      "Epoch 34/40\n",
      "1080/1080 [==============================] - 5s 4ms/step - loss: 0.2086 - acc: 0.9852\n",
      "Epoch 35/40\n",
      "1080/1080 [==============================] - 5s 4ms/step - loss: 0.2062 - acc: 0.9843\n",
      "Epoch 36/40\n",
      "1080/1080 [==============================] - 5s 4ms/step - loss: 0.2084 - acc: 0.9824\n",
      "Epoch 37/40\n",
      "1080/1080 [==============================] - 4s 4ms/step - loss: 0.2010 - acc: 0.9833\n",
      "Epoch 38/40\n",
      "1080/1080 [==============================] - 4s 4ms/step - loss: 0.1948 - acc: 0.9880\n",
      "Epoch 39/40\n",
      "1080/1080 [==============================] - 4s 4ms/step - loss: 0.2057 - acc: 0.9833\n",
      "Epoch 40/40\n",
      "1080/1080 [==============================] - 4s 4ms/step - loss: 0.1929 - acc: 0.9843\n"
     ]
    },
    {
     "data": {
      "text/plain": [
       "<keras.callbacks.History at 0x7f0f7426cc18>"
      ]
     },
     "execution_count": 13,
     "metadata": {},
     "output_type": "execute_result"
    }
   ],
   "source": [
    "signmodel.fit(X_train, Y_train, epochs=40, batch_size=64)"
   ]
  },
  {
   "cell_type": "code",
   "execution_count": 14,
   "metadata": {},
   "outputs": [
    {
     "name": "stdout",
     "output_type": "stream",
     "text": [
      "120/120 [==============================] - 0s 3ms/step\n",
      "Loss : 0.34425833423932395\n",
      "Test Accuracy: 0.9083333373069763\n"
     ]
    }
   ],
   "source": [
    "predicts = signmodel.evaluate(X_test, Y_test, batch_size=32, verbose=1, sample_weight=None)\n",
    "\n",
    "print(\"Loss :\", predicts[0])\n",
    "print(\"Test Accuracy:\", predicts[1])"
   ]
  },
  {
   "cell_type": "code",
   "execution_count": 15,
   "metadata": {},
   "outputs": [
    {
     "name": "stdout",
     "output_type": "stream",
     "text": [
      "_________________________________________________________________\n",
      "Layer (type)                 Output Shape              Param #   \n",
      "=================================================================\n",
      "input_1 (InputLayer)         (None, 64, 64, 3)         0         \n",
      "_________________________________________________________________\n",
      "conv0 (Conv2D)               (None, 64, 64, 8)         392       \n",
      "_________________________________________________________________\n",
      "bn0 (BatchNormalization)     (None, 64, 64, 8)         32        \n",
      "_________________________________________________________________\n",
      "activation_1 (Activation)    (None, 64, 64, 8)         0         \n",
      "_________________________________________________________________\n",
      "max_pool0 (MaxPooling2D)     (None, 8, 8, 8)           0         \n",
      "_________________________________________________________________\n",
      "conv1 (Conv2D)               (None, 8, 8, 16)          528       \n",
      "_________________________________________________________________\n",
      "bn1 (BatchNormalization)     (None, 8, 8, 16)          64        \n",
      "_________________________________________________________________\n",
      "activation_2 (Activation)    (None, 8, 8, 16)          0         \n",
      "_________________________________________________________________\n",
      "max_pool1 (MaxPooling2D)     (None, 2, 2, 16)          0         \n",
      "_________________________________________________________________\n",
      "flatten_1 (Flatten)          (None, 64)                0         \n",
      "_________________________________________________________________\n",
      "dense_1 (Dense)              (None, 6)                 390       \n",
      "=================================================================\n",
      "Total params: 1,406\n",
      "Trainable params: 1,358\n",
      "Non-trainable params: 48\n",
      "_________________________________________________________________\n"
     ]
    }
   ],
   "source": [
    "signmodel.summary()"
   ]
  },
  {
   "cell_type": "code",
   "execution_count": null,
   "metadata": {
    "collapsed": true
   },
   "outputs": [],
   "source": []
  }
 ],
 "metadata": {
  "kernelspec": {
   "display_name": "Python 3",
   "language": "python",
   "name": "python3"
  },
  "language_info": {
   "codemirror_mode": {
    "name": "ipython",
    "version": 3
   },
   "file_extension": ".py",
   "mimetype": "text/x-python",
   "name": "python",
   "nbconvert_exporter": "python",
   "pygments_lexer": "ipython3",
   "version": "3.6.3"
  }
 },
 "nbformat": 4,
 "nbformat_minor": 2
}
